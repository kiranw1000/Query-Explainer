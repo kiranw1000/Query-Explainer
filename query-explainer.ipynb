{
 "cells": [
  {
   "cell_type": "markdown",
   "metadata": {},
   "source": [
    "# Setup "
   ]
  },
  {
   "cell_type": "code",
   "execution_count": null,
   "metadata": {},
   "outputs": [],
   "source": [
    "import google.generativeai as gai\n",
    "import json, textwrap\n",
    "import pandas as pd\n",
    "from IPython.display import Markdown\n",
    "gemini_key = json.load(open('keys.json'))['gemini']['api-key']\n",
    "gai.configure(api_key=gemini_key)\n",
    "MODEL = gai.GenerativeModel('gemini-pro')"
   ]
  },
  {
   "cell_type": "markdown",
   "metadata": {},
   "source": [
    "# Define helper functions"
   ]
  },
  {
   "cell_type": "code",
   "execution_count": null,
   "metadata": {},
   "outputs": [],
   "source": [
    "def reformat_response(resp):\n",
    "    return \"\\n\".join([line for line in resp.text.split('\\n') if line.split()[0]==line.split()[0].upper() and line!=\"\\n\" and \"`\" not in line])"
   ]
  },
  {
   "cell_type": "code",
   "execution_count": null,
   "metadata": {},
   "outputs": [],
   "source": [
    "def get_instructions(assignment, model):\n",
    "    chat = model.start_chat(history=[])\n",
    "    response = chat.send_message('Generate a sql query with each command on a different line such that it satisfies the following: '+assignment+ \". Do not explain and give no other text.\")\n",
    "    ret = []\n",
    "    for query_line in reformat_response(response).split('\\n'):\n",
    "        ret+= [chat.send_message(\"Explain what the command \"+query_line+\"is doing in one sentence on one line without any formatting. Be specific about any tables, columns, or values that are used.\").text.split(\"\\n\")[0]]\n",
    "    return ret, chat"
   ]
  },
  {
   "cell_type": "code",
   "execution_count": null,
   "metadata": {},
   "outputs": [],
   "source": [
    "def show_instructions(instructions):\n",
    "    ret = f'The query should be made of {len(instructions)} commands that {\"does\" if len(instructions)==1 else \"do\"} the following:\\n '\n",
    "    for i, instruction in enumerate(instructions):\n",
    "        ret+=f\"{i+1}. {instruction}\\n \"\n",
    "    return ret"
   ]
  },
  {
   "cell_type": "markdown",
   "metadata": {},
   "source": [
    "# Run"
   ]
  },
  {
   "cell_type": "code",
   "execution_count": null,
   "metadata": {},
   "outputs": [],
   "source": [
    "prompt = input(\"Enter the prompt: \")\n",
    "query,_ = get_instructions(prompt, MODEL)\n",
    "print(show_instructions(query))"
   ]
  },
  {
   "cell_type": "code",
   "execution_count": null,
   "metadata": {},
   "outputs": [],
   "source": []
  }
 ],
 "metadata": {
  "kernelspec": {
   "display_name": "base",
   "language": "python",
   "name": "python3"
  },
  "language_info": {
   "codemirror_mode": {
    "name": "ipython",
    "version": 3
   },
   "file_extension": ".py",
   "mimetype": "text/x-python",
   "name": "python",
   "nbconvert_exporter": "python",
   "pygments_lexer": "ipython3",
   "version": "3.11.4"
  }
 },
 "nbformat": 4,
 "nbformat_minor": 2
}
