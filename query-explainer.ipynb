{
 "cells": [
  {
   "cell_type": "markdown",
   "metadata": {},
   "source": [
    "# Setup "
   ]
  },
  {
   "cell_type": "code",
   "execution_count": null,
   "metadata": {},
   "outputs": [],
   "source": [
    "import google.generativeai as gai\n",
    "import json\n",
    "# Gemini API Key import\n",
    "gemini_key = json.load(open('keys.json'))['gemini']['api-key']\n",
    "gai.configure(api_key=gemini_key)\n",
    "MODEL = gai.GenerativeModel('gemini-pro')\n",
    "import sqlite3 as sql"
   ]
  },
  {
   "cell_type": "markdown",
   "metadata": {},
   "source": [
    "# Define helper functions"
   ]
  },
  {
   "cell_type": "code",
   "execution_count": null,
   "metadata": {},
   "outputs": [],
   "source": [
    "def is_sql(line:str):\n",
    "    first_word = line.strip().split(\" \")[0]\n",
    "    return first_word == first_word.upper()"
   ]
  },
  {
   "cell_type": "code",
   "execution_count": null,
   "metadata": {},
   "outputs": [],
   "source": [
    "def reformat_response(resp):\n",
    "    return \"\\n\".join([line for line in resp.text.split('\\n') if line.split()[0]==line.split()[0].upper() and line!=\"\\n\" and \"`\" not in line])"
   ]
  },
  {
   "cell_type": "code",
   "execution_count": null,
   "metadata": {},
   "outputs": [],
   "source": [
    "def get_sql_from_llm(assignment,model):\n",
    "    chat = model.start_chat(history=[])\n",
    "    return chat.send_message(f'You have a database with the following tables: {tables}. Those tables have the following columns: {table_columns}. Generate a sql query with each command on a different line such that it satisfies the following: '+assignment+ \". Do not explain and give no other text. If such a query does not make sense in the context of the database or if any requested columns do not exist return the phrase 'Invalid prompt'.\"), chat"
   ]
  },
  {
   "cell_type": "code",
   "execution_count": null,
   "metadata": {},
   "outputs": [],
   "source": [
    "def execute_query(query:str, cur):\n",
    "    try:\n",
    "        return cur.execute(query).fetchall()\n",
    "    except:\n",
    "        return \"Invalid prompt\""
   ]
  },
  {
   "cell_type": "code",
   "execution_count": null,
   "metadata": {},
   "outputs": [],
   "source": [
    "def get_instructions(assignment, model, cur):\n",
    "    response, chat = get_sql_from_llm(assignment,model)\n",
    "    if \"Invalid prompt\" in response.text or not any([is_sql(line) for line in response.text.split('\\n')]):\n",
    "        return [\"None\"],[\"Please enter a question that makes sense in the context of the database.\"], chat\n",
    "    instructions = []\n",
    "    query = \"\\n\".join([line for line in reformat_response(response).split('\\n') if is_sql(line)])\n",
    "    invalid, try_count = True,0\n",
    "    while invalid and try_count<5:\n",
    "        results = execute_query(query, cur)\n",
    "        if results == \"Invalid prompt\":\n",
    "            print(f\"The generated query: {query} did not make sense in the context of the database. Trying new query.\")\n",
    "            response, chat = get_sql_from_llm(assignment,model)\n",
    "            query = \"\\n\".join([line for line in reformat_response(response).split('\\n') if is_sql(line)])\n",
    "        else:\n",
    "            invalid = False\n",
    "    if invalid:\n",
    "        return [\"None\"],[\"A valid query could not be generated. Please try again.\"], chat\n",
    "    if len(results)<1:\n",
    "        return [\"None\"],[\"The generated query did not return any results. Please enter a valid prompt.\"], chat\n",
    "    for query_line in query.split('\\n'):\n",
    "        if is_sql(query_line):\n",
    "            instructions+= [query_line+\" [\"+chat.send_message(\"Explain what the command \"+query_line+\"is doing in one sentence on one line without any formatting. Be specific about any tables, columns, or values that are used.\").text.split(\"\\n\")[0]+\"]\"]\n",
    "    return results, instructions, chat"
   ]
  },
  {
   "cell_type": "code",
   "execution_count": null,
   "metadata": {},
   "outputs": [],
   "source": [
    "def show_instructions_and_results(instructions, results):\n",
    "    ret = \"Results: \\n\"\n",
    "    for r, result in enumerate(results):\n",
    "        ret+=f\"{result.__str__()}\\n\"\n",
    "    ret += f\"Instructions: \\n\"\n",
    "    for i, instruction in enumerate(instructions):\n",
    "        ret+=f\"{instruction}\\n\"\n",
    "    return ret"
   ]
  },
  {
   "cell_type": "markdown",
   "metadata": {},
   "source": [
    "# Run"
   ]
  },
  {
   "cell_type": "code",
   "execution_count": null,
   "metadata": {},
   "outputs": [],
   "source": [
    "import requests\n",
    "import sqlite3, os\n",
    "# URL of the SQLite database file\n",
    "url = input(\"Enter the URL of the SQLite database file: \").replace(\"blob\", \"raw\")\n",
    "\n",
    "# Download the database file\n",
    "response = requests.get(url).content if 'http' in url else open(url, \"rb\").read()\n",
    "with open(\"temp.db\", \"wb\") as file:\n",
    "    file.write(response)\n",
    "\n",
    "# Connect to the downloaded database file\n",
    "conn = sqlite3.connect(\"temp.db\")\n",
    "cur = conn.cursor()\n",
    "# Create a list of all the tables in the database\n",
    "tables = [table_tuple[0] for table_tuple in cur.execute(\"SELECT name FROM sqlite_master  WHERE type='table';\").fetchall()]\n",
    "# Create a dictionary of all the columns in each table in the database\n",
    "table_columns = {}\n",
    "for table in tables:\n",
    "    table_columns[table] = [column[0] for column in cur.execute(f\"SELECT * FROM {table}\").description]\n",
    "prompt = input(\"Enter the prompt: \")\n",
    "results,instructions,chat = get_instructions(prompt, MODEL,cur)\n",
    "print(show_instructions_and_results(instructions, results))"
   ]
  }
 ],
 "metadata": {
  "kernelspec": {
   "display_name": "base",
   "language": "python",
   "name": "python3"
  },
  "language_info": {
   "codemirror_mode": {
    "name": "ipython",
    "version": 3
   },
   "file_extension": ".py",
   "mimetype": "text/x-python",
   "name": "python",
   "nbconvert_exporter": "python",
   "pygments_lexer": "ipython3",
   "version": "3.11.4"
  }
 },
 "nbformat": 4,
 "nbformat_minor": 2
}
